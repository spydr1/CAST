{
 "cells": [
  {
   "cell_type": "code",
   "execution_count": 1,
   "metadata": {},
   "outputs": [],
   "source": [
    "import tensorflow as tf\n",
    "import numpy as np\n",
    "from research.slim.nets.mobilenet import mobilenet_v2\n",
    "\n",
    "from tensorflow.contrib import slim"
   ]
  },
  {
   "cell_type": "code",
   "execution_count": null,
   "metadata": {},
   "outputs": [],
   "source": [
    "from __future__ import print_function\n",
    "from IPython import display \n",
    "checkpoint_name = 'mobilenet_v2_1.0_224' #@param\n",
    "url = 'https://storage.googleapis.com/mobilenet_v2/checkpoints/' + checkpoint_name + '.tgz'\n",
    "print('Downloading from ', url)\n",
    "!wget {url}\n",
    "print('Unpacking')\n",
    "base_name = './'\n",
    "!tar -xvf {base_name}.tgz\n",
    "checkpoint = base_name + '.ckpt'\n",
    "\n",
    "display.clear_output()\n",
    "print('Successfully downloaded checkpoint from ', url,\n",
    "      '. It is available as', checkpoint)"
   ]
  },
  {
   "cell_type": "code",
   "execution_count": 4,
   "metadata": {},
   "outputs": [],
   "source": [
    "weight_decay=1e-5\n",
    "images = tf.placeholder(dtype=tf.float32, shape=[None,512,512,3])\n",
    "is_training = False\n",
    "\n",
    "with slim.arg_scope(mobilenet_v2.training_scope(weight_decay=weight_decay,is_training=False)):\n",
    "    logits, endpoints = mobilenet_v2.mobilenet_base(images)\n"
   ]
  },
  {
   "cell_type": "code",
   "execution_count": 9,
   "metadata": {},
   "outputs": [
    {
     "name": "stdout",
     "output_type": "stream",
     "text": [
      "INFO:tensorflow:Restoring parameters from /home/minjun/Jupyter/ocr/EAST/trained_mobilnetv2/mobilenet_v2_1.0_224.ckpt\n",
      "layer name : MobilenetV2/Conv/weights:0 mean : -0.00510563887655735\n",
      "layer name : MobilenetV2/Conv/BatchNorm/gamma:0 mean : 1.1679248809814453\n",
      "layer name : MobilenetV2/Conv/BatchNorm/beta:0 mean : 0.8218730092048645\n",
      "layer name : MobilenetV2/expanded_conv/depthwise/depthwise_weights:0 mean : -0.061735451221466064\n",
      "layer name : MobilenetV2/expanded_conv/depthwise/BatchNorm/gamma:0 mean : 0.7364234924316406\n",
      "layer name : MobilenetV2/expanded_conv/depthwise/BatchNorm/beta:0 mean : 1.0089302062988281\n",
      "layer name : MobilenetV2/expanded_conv/project/weights:0 mean : -0.0013747788034379482\n",
      "layer name : MobilenetV2/expanded_conv/project/BatchNorm/gamma:0 mean : 4.052672863006592\n",
      "layer name : MobilenetV2/expanded_conv/project/BatchNorm/beta:0 mean : -0.0007627801969647408\n",
      "layer name : MobilenetV2/expanded_conv_1/expand/weights:0 mean : 0.001830881810747087\n",
      "------------------\n",
      "layer name : MobilenetV2/Conv/weights:0 mean : 0.0021631745621562004\n",
      "layer name : MobilenetV2/Conv/BatchNorm/gamma:0 mean : 1.0\n",
      "layer name : MobilenetV2/Conv/BatchNorm/beta:0 mean : 0.0\n",
      "layer name : MobilenetV2/expanded_conv/depthwise/depthwise_weights:0 mean : 0.0004156354407314211\n",
      "layer name : MobilenetV2/expanded_conv/depthwise/BatchNorm/gamma:0 mean : 1.0\n",
      "layer name : MobilenetV2/expanded_conv/depthwise/BatchNorm/beta:0 mean : 0.0\n",
      "layer name : MobilenetV2/expanded_conv/project/weights:0 mean : -0.0041294037364423275\n",
      "layer name : MobilenetV2/expanded_conv/project/BatchNorm/gamma:0 mean : 1.0\n",
      "layer name : MobilenetV2/expanded_conv/project/BatchNorm/beta:0 mean : 0.0\n",
      "layer name : MobilenetV2/expanded_conv_1/expand/weights:0 mean : -0.004082537721842527\n"
     ]
    }
   ],
   "source": [
    "checkpoint = '/home/minjun/Jupyter/ocr/EAST/trained_mobilnetv2/mobilenet_v2_1.0_224.ckpt'\n",
    "\n",
    "#ema = tf.train.ExponentialMovingAverage(0.999)\n",
    "#vars = ema.variables_to_restore()\n",
    "\n",
    "saver = tf.train.Saver(tf.global_variables())\n",
    "\n",
    "with tf.Session() as sess:\n",
    "    saver.restore(sess,  checkpoint)\n",
    "    for layer in tf.trainable_variables()[:10]:\n",
    "        print(\"layer name : {} mean : {}\".format(layer.name, sess.run(tf.reduce_mean(layer.eval(session=sess)))))\n",
    "    sess.run(tf.global_variables_initializer())\n",
    "    print('------------------')\n",
    "    for layer in tf.trainable_variables()[:10]:\n",
    "        print(\"layer name : {} mean : {}\".format(layer.name, sess.run(tf.reduce_mean(layer.eval(session=sess)))))\n"
   ]
  }
 ],
 "metadata": {
  "kernelspec": {
   "display_name": "tensorflow",
   "language": "python",
   "name": "tensorflow"
  },
  "language_info": {
   "codemirror_mode": {
    "name": "ipython",
    "version": 3
   },
   "file_extension": ".py",
   "mimetype": "text/x-python",
   "name": "python",
   "nbconvert_exporter": "python",
   "pygments_lexer": "ipython3",
   "version": "3.5.2"
  }
 },
 "nbformat": 4,
 "nbformat_minor": 2
}
