{
 "cells": [
  {
   "cell_type": "code",
   "execution_count": null,
   "metadata": {
    "scrolled": true
   },
   "outputs": [],
   "source": [
    "import cv2\n",
    "import time\n",
    "import math\n",
    "import os\n",
    "import numpy as np\n",
    "import tensorflow as tf\n",
    "\n",
    "import locality_aware_nms as nms_locality\n",
    "import lanms\n",
    "\n",
    "import model\n",
    "FLAGS = tf.app.flags.FLAGS\n",
    "#tf.app.flags.DEFINE_string('backbone', 'Mobilenet', 'what kind of backbone')\n",
    "#tf.app.flags.DEFINE_string('dataset', 'icdar15', '')\n",
    "\n",
    "\n",
    "tf.app.flags.DEFINE_string('f', '', 'kernel')\n",
    "#FLAGS.backbone = 'Mobilenet' # Pvanet, Mobilenet, Resnet\n",
    "#FLAGS.decoder = 'CRAFT' # original, CRAFT, Expand\n",
    "#FLAGS.dataset = 'icdar2017_mlt'\n",
    "\n",
    "from icdar import restore_rectangle\n",
    "import time\n",
    "from skimage import io\n",
    "import matplotlib.pyplot as plt\n",
    "from matplotlib.patches import Polygon\n",
    "import colorsys\n",
    "import random\n",
    "from matplotlib import patches,  lines\n",
    "%matplotlib inline\n"
   ]
  },
  {
   "cell_type": "code",
   "execution_count": null,
   "metadata": {},
   "outputs": [],
   "source": [
    "#test_data_path = '/home/minjun/Jupyter/data/ocr/2015/test'\n",
    "#test_data_path = '/home/minjun/Jupyter/data/ocr/2013/test/'\n",
    "test_data_path = '/home/minjun/Jupyter/data/ocr/2017_MLT/test'\n",
    "gpu_list = [2]\n",
    "checkpoint_path = './tmp/east_icdar2017_mobilenet_v2_CRAFT/'\n",
    "#checkpoint_path = './Untitled Folder/'\n",
    "output_dir = './tmp/output'\n",
    "no_write_images = True\n",
    "dataset = 'icdar2017_mlt'\n"
   ]
  },
  {
   "cell_type": "code",
   "execution_count": null,
   "metadata": {},
   "outputs": [],
   "source": [
    "def get_images():\n",
    "    '''\n",
    "    find image files in test data path\n",
    "    :return: list of files found\n",
    "    '''\n",
    "    files = []\n",
    "    exts = ['jpg', 'png', 'jpeg', 'JPG']\n",
    "    for parent, dirnames, filenames in os.walk(test_data_path):\n",
    "        for filename in filenames:\n",
    "            for ext in exts:\n",
    "                if filename.endswith(ext):\n",
    "                    files.append(os.path.join(parent, filename))\n",
    "                    break\n",
    "    print('Find {} images'.format(len(files)))\n",
    "    return files\n",
    "def resize_image(im, max_side_len=2400):\n",
    "    '''\n",
    "    resize image to a size multiple of 32 which is required by the network\n",
    "    :param im: the resized image\n",
    "    :param max_side_len: limit of max image size to avoid out of memory in gpu\n",
    "    :return: the resized image and the resize ratio\n",
    "    '''\n",
    "    h, w, _ = im.shape\n",
    "\n",
    "    resize_w = w\n",
    "    resize_h = h\n",
    "\n",
    "    # limit the max side\n",
    "    if max(resize_h, resize_w) > max_side_len:\n",
    "        ratio = float(max_side_len) / resize_h if resize_h > resize_w else float(max_side_len) / resize_w\n",
    "    else:\n",
    "        ratio = 1.\n",
    "    resize_h = int(resize_h * ratio)\n",
    "    resize_w = int(resize_w * ratio)\n",
    "\n",
    "    resize_h = resize_h if resize_h % 32 == 0 else (resize_h // 32 - 1) * 32\n",
    "    resize_w = resize_w if resize_w % 32 == 0 else (resize_w // 32 - 1) * 32\n",
    "    resize_h = max(32, resize_h)\n",
    "    resize_w = max(32, resize_w)\n",
    "    im = cv2.resize(im, (int(resize_w), int(resize_h)))\n",
    "\n",
    "    ratio_h = resize_h / float(h)\n",
    "    ratio_w = resize_w / float(w)\n",
    "\n",
    "    return im, (ratio_h, ratio_w)\n",
    "\n",
    "\n",
    "\n",
    "\n",
    "def detect(score_map, geo_map, timer, score_map_thresh=0.8, box_thresh=0.1, nms_thres=0.2):\n",
    "    '''\n",
    "    restore text boxes from score map and geo map\n",
    "    :param score_map:\n",
    "    :param geo_map:\n",
    "    :param timer:\n",
    "    :param score_map_thresh: threshhold for score map\n",
    "    :param box_thresh: threshhold for boxes\n",
    "    :param nms_thres: threshold for nms\n",
    "    :return:\n",
    "    '''\n",
    "    if len(score_map.shape) == 4:\n",
    "        score_map = score_map[0, :, :, 0]\n",
    "        geo_map = geo_map[0, :, :, ]\n",
    "    # filter the score map\n",
    "    xy_text = np.argwhere(score_map > score_map_thresh)\n",
    "    # sort the text boxes via the y axis\n",
    "    xy_text = xy_text[np.argsort(xy_text[:, 0])]\n",
    "    # restore\n",
    "    start = time.time()\n",
    "    text_box_restored = restore_rectangle(xy_text[:, ::-1]*4, geo_map[xy_text[:, 0], xy_text[:, 1], :]) # N*4*2\n",
    "    #print('{} text boxes before nms'.format(text_box_restored.shape[0]))\n",
    "    boxes = np.zeros((text_box_restored.shape[0], 9), dtype=np.float32)\n",
    "    boxes[:, :8] = text_box_restored.reshape((-1, 8))\n",
    "    boxes[:, 8] = score_map[xy_text[:, 0], xy_text[:, 1]]\n",
    "    timer['restore'] = time.time() - start\n",
    "    # nms part\n",
    "    start = time.time()\n",
    "    # boxes = nms_locality.nms_locality(boxes.astype(np.float64), nms_thres)\n",
    "    boxes = lanms.merge_quadrangle_n9(boxes.astype('float32'), nms_thres)\n",
    "    timer['nms'] = time.time() - start\n",
    "\n",
    "    if boxes.shape[0] == 0:\n",
    "        return None, timer\n",
    "\n",
    "    # here we filter some low score boxes by the average score map, this is different from the orginal paper\n",
    "    for i, box in enumerate(boxes):\n",
    "        mask = np.zeros_like(score_map, dtype=np.uint8)\n",
    "        cv2.fillPoly(mask, box[:8].reshape((-1, 4, 2)).astype(np.int32) // 4, 1)\n",
    "        boxes[i, 8] = cv2.mean(score_map, mask)[0]\n",
    "    boxes = boxes[boxes[:, 8] > box_thresh]\n",
    "    print(\"def detect, box shape : \",np.shape(boxes))\n",
    "\n",
    "    return boxes, timer\n",
    "\n",
    "def simple_detect(score_map,rawshape, thres=0.5,thres_area= 5):\n",
    "    print(np.shape(score_map))\n",
    "\n",
    "    ret, binimage = cv2.threshold(score_map,thres,1,0)\n",
    "    binimage = binimage.astype(np.int8)\n",
    "\n",
    "    nlabels, labels, stats, centroids = cv2.connectedComponentsWithStats(binimage)\n",
    "    boxes=[]\n",
    "    print(\"box 갯수 : \",nlabels-1)\n",
    "    for i in range(1,nlabels):\n",
    "        area = stats[i, cv2.CC_STAT_AREA]\n",
    "        center_x = int(centroids[i, 0])\n",
    "        center_y = int(centroids[i, 1]) \n",
    "        left = stats[i, cv2.CC_STAT_LEFT]\n",
    "        top = stats[i, cv2.CC_STAT_TOP]\n",
    "        width = int(stats[i, cv2.CC_STAT_WIDTH]*1.2)\n",
    "        height = int(stats[i, cv2.CC_STAT_HEIGHT]*1.2)\n",
    "\n",
    "        y1 = max(min((center_y-height/2)/binimage.shape[0],1),0)\n",
    "        y2 = max(min((center_y+height/2)/binimage.shape[0],1),0)\n",
    "        x1 = max(min((center_x-width/2)/binimage.shape[1],1),0)\n",
    "        x2 = max(min((center_x+width/2)/binimage.shape[1],1),0)\n",
    "\n",
    "        boxes.append([[int(x1*rawshape[1]),int(y1*rawshape[0])],[int(x2*rawshape[1]),int(y2*rawshape[0])]])\n",
    "    boxes = np.array(boxes)\n",
    "    return boxes\n",
    "\n",
    "\n",
    "def sort_poly(p):\n",
    "    min_axis = np.argmin(np.sum(p, axis=1))\n",
    "    p = p[[min_axis, (min_axis+1)%4, (min_axis+2)%4, (min_axis+3)%4]]\n",
    "    if abs(p[0, 0] - p[1, 0]) > abs(p[0, 1] - p[1, 1]):\n",
    "        return p\n",
    "    else:\n",
    "        return p[[0, 3, 2, 1]]\n",
    "    \n",
    "def random_colors(N, bright=True):\n",
    "    \"\"\"\n",
    "    Generate random colors.\n",
    "    To get visually distinct colors, generate them in HSV space then\n",
    "    convert to RGB.\n",
    "    \"\"\"\n",
    "    brightness = 1.0 if bright else 0.7\n",
    "    hsv = [(i / N, 1, brightness) for i in range(N)]\n",
    "    colors = list(map(lambda c: colorsys.hsv_to_rgb(*c), hsv))\n",
    "    random.shuffle(colors)\n",
    "    return colors\n",
    "    \n",
    "from matplotlib.patches import Polygon\n",
    "\n",
    "def visualize(image, boxes,figsize=(16, 16)):\n",
    "        \"\"\"\n",
    "        desc : bbox와 함께 이미지를 그린다.\n",
    "        \n",
    "        -input-\n",
    "        image_id : 시각화 하기를 원하는 이미지 인덱스 번호\n",
    "        figsize : 이미지 크기\n",
    "        \"\"\"   \n",
    "        fig, ax = plt.subplots(1, figsize=figsize)\n",
    "        char_boxes=boxes\n",
    "        char_len=len(char_boxes)\n",
    "        colors = random_colors(char_len)\n",
    "        print (\"box channel : \", np.shape(boxes)[-1])\n",
    "        for i in range(char_len):\n",
    "            color = colors[i]\n",
    "        # Bounding box\n",
    "            if not np.any(char_boxes[i]):\n",
    "                # Skip this instance. Has no bbox. Likely lost in image cropping.\n",
    "                continue\n",
    "            \n",
    "            if  dataset == 'icdar13' :\n",
    "                if np.shape(boxes)[1] == 4 : # 4 - vertex \n",
    "                    box = char_boxes[i]\n",
    "                    y_max = max(box[0, 1], box[1, 1], box[2, 1], box[3, 1])\n",
    "                    y_min = min(box[0, 1], box[1, 1], box[2, 1], box[3, 1])\n",
    "                    x_max = max(box[0, 0], box[1, 0], box[2, 0], box[3, 0])\n",
    "                    x_min = min(box[0, 0], box[1, 0], box[2, 0], box[3, 0])\n",
    "\n",
    "                else : # 2 - vertex \n",
    "                    box = char_boxes[i]\n",
    "                    y_max = max(box[0, 1], box[1, 1])\n",
    "                    y_min = min(box[0, 1], box[1, 1])\n",
    "                    x_max = max(box[0, 0], box[1, 0])\n",
    "                    x_min = min(box[0, 0], box[1, 0])            \n",
    "                width = (x_max-x_min)\n",
    "                height = (y_max-y_min)\n",
    "                p = patches.Rectangle((x_min,y_min), width, height, linewidth=2,\n",
    "                                      edgecolor=color, facecolor='none')\n",
    "            else : \n",
    "                p = Polygon(char_boxes[i], facecolor=\"none\", edgecolor=color)\n",
    "                \n",
    "            ax.add_patch(p)\n",
    "        ax.imshow(image)"
   ]
  },
  {
   "cell_type": "code",
   "execution_count": null,
   "metadata": {},
   "outputs": [],
   "source": [
    "tf.reset_default_graph()\n",
    "with tf.get_default_graph().as_default():  \n",
    "    with tf.Session() as sess:\n",
    "        with tf.device('/cpu:0'):\n",
    "            input_images = tf.placeholder(tf.float32, shape=[None, None, None, 3], name='input_images')\n",
    "            global_step = tf.get_variable('global_step', [], initializer=tf.constant_initializer(0), trainable=False)\n",
    "\n",
    "            f_score, f_geometry = model.model(input_images, is_training=False)\n",
    "\n",
    "            variable_averages = tf.train.ExponentialMovingAverage(0.997, global_step)\n",
    "            saver = tf.train.Saver(variable_averages.variables_to_restore())\n",
    "            total_parameters=0\n",
    "            for variable in tf.trainable_variables():  \n",
    "                local_parameters=1\n",
    "                shape = variable.get_shape()  #getting shape of a variable\n",
    "                for i in shape:\n",
    "                    local_parameters*=i.value  #mutiplying dimension values\n",
    "                total_parameters+=local_parameters\n",
    "            print(\"-----params-----\" , total_parameters)   \n",
    "            ckpt_state = tf.train.get_checkpoint_state(checkpoint_path)\n",
    "            #model_path = os.path.join(FLAGS.checkpoint_path, os.path.basename(ckpt_state.model_checkpoint_path))\n",
    "            model_path = os.path.join(checkpoint_path, os.path.basename(ckpt_state.model_checkpoint_path))\n",
    "            print('Restore from {}'.format(model_path))\n",
    "            saver.restore(sess, model_path)\n",
    "\n",
    "            im_fn_list = get_images()\n",
    "            im_fn_list = im_fn_list[:10]\n",
    "            tot_time = time.time()\n",
    "            for k,im_fn in enumerate(im_fn_list):\n",
    "                im = cv2.imread(im_fn)[:, :, ::-1]\n",
    "                im_resized, (ratio_h, ratio_w) = resize_image(im)\n",
    "                each_time = time.time()\n",
    "                timer = {'net': 0, 'restore': 0, 'nms': 0}\n",
    "                start = time.time()\n",
    "                score, geometry = sess.run([f_score, f_geometry], feed_dict={input_images: [im_resized]})\n",
    "                timer['net'] = time.time() - start\n",
    "\n",
    "                simple_detect_on = False \n",
    "                if simple_detect_on :\n",
    "                    boxes = list(map(lambda score_map : simple_detect(score_map, np.shape(im),thres=0.3) ,[score_map for score_map in score]))\n",
    "                    boxes = boxes[0] if np.shape(boxes)[0] == 1 else boxes\n",
    "                else : \n",
    "                    boxes, timer = detect(score_map=score, geo_map=geometry, timer=timer)\n",
    "                #print('{} : net {:.0f}ms, restore {:.0f}ms, nms {:.0f}ms'.format(\n",
    "                #    im_fn, timer['net']*1000, timer['restore']*1000, timer['nms']*1000))\n",
    "                #print(\"image shape :\", np.shape(im_resized))\n",
    "                #print(\"box shape : \", np.shape(boxes))\n",
    "                #print (\"each_time : \", time.time()-each_time)\n",
    "\n",
    "\n",
    "                if False :\n",
    "                    fig, ax = plt.subplots(7,figsize=(30,30))\n",
    "                    ax[0].imshow(im_resized)\n",
    "                    ax[1].imshow(score[0][:,:,0],cmap='gray')\n",
    "                    ax[2].imshow(geometry[0][:,:,0])\n",
    "                    ax[3].imshow(geometry[0][:,:,1])\n",
    "                    ax[4].imshow(geometry[0][:,:,2])\n",
    "                    ax[5].imshow(geometry[0][:,:,3])\n",
    "                    ax[6].imshow(geometry[0][:,:,4])\n",
    "\n",
    "                if simple_detect_on == True :\n",
    "                    #boxes = boxes.astype(np.int32)\n",
    "                    visualize(im,boxes)\n",
    "\n",
    "                else : \n",
    "                    if boxes is not None:\n",
    "                        fig, ax = plt.subplots(1,figsize=(30,30))\n",
    "                        ax.imshow(score[0][:,:,0],cmap='gray')\n",
    "                        boxes = boxes[:, :8].reshape((-1, 4, 2))\n",
    "                        boxes[:, :, 0] /= ratio_w\n",
    "                        boxes[:, :, 1] /= ratio_h\n",
    "                        boxes = boxes.astype(np.int32)\n",
    "                        visualize(im,boxes)\n",
    "\n",
    "\n",
    "            tot_time = time.time()-tot_time\n",
    "            print(tot_time)"
   ]
  },
  {
   "cell_type": "code",
   "execution_count": null,
   "metadata": {},
   "outputs": [],
   "source": [
    "score_map = score\n",
    "geo_map = geometry\n",
    "print(np.shape(score),np.shape(geometry))\n",
    "\n",
    "if len(score_map.shape) == 4:\n",
    "    score_map = score_map[0, :, :, 0]\n",
    "    geo_map = geo_map[0, :, :, ]\n",
    "print(np.shape(geo_map),np.shape(score_map))\n",
    "xy_text = np.argwhere(score_map > 0.8)\n",
    "# sort the text boxes via the y axis\n",
    "xy_text = xy_text[np.argsort(xy_text[:, 0])]\n",
    "# restore\n",
    "print(np.shape(xy_text))\n",
    "start = time.time()\n",
    "\n",
    "text_box_restored = restore_rectangle(xy_text[:, ::-1]*4, geometry[0][xy_text[:, 0], xy_text[:, 1], :]) # N*4*2\n",
    "print('{} text boxes before nms'.format(text_box_restored.shape[0]))\n",
    "boxes = np.zeros((text_box_restored.shape[0], 9), dtype=np.float32)\n",
    "boxes[:, :8] = text_box_restored.reshape((-1, 8))\n",
    "boxes[:, 8] = score_map[xy_text[:, 0], xy_text[:, 1]]\n",
    "boxes = lanms.merge_quadrangle_n9(boxes.astype('float32'), 0.2)\n",
    "for i, box in enumerate(boxes):\n",
    "    mask = np.zeros_like(score_map, dtype=np.uint8)\n",
    "    cv2.fillPoly(mask, box[:8].reshape((-1, 4, 2)).astype(np.int32) // 4, 1)\n",
    "    #boxes[i, 8] = cv2.mean(score_map, mask)[0] #마스크 영역에 대해서 score 평균값 계산 . \n",
    "    print(np.sum(mask))\n",
    "    print(np.sum(score_map))\n",
    "    print(cv2.mean(score_map, mask))\n",
    "print(boxes)\n",
    "\n",
    "boxes = boxes[boxes[:, 8] > 0.1]\n",
    "boxes = boxes[:, :8].reshape((-1, 4, 2))\n",
    "boxes[:, :, 0] /= ratio_w\n",
    "boxes[:, :, 1] /= ratio_h\n",
    "boxes = boxes.astype(np.int32)\n",
    "\n",
    "print(\"def detect, box shape : \",np.shape(boxes))\n",
    "print(boxes)\n",
    "visualize(im,boxes)\n",
    "\n",
    "\n",
    "\n",
    "#timer['restore'] = time.time() - start"
   ]
  },
  {
   "cell_type": "code",
   "execution_count": null,
   "metadata": {},
   "outputs": [],
   "source": [
    "ret, binimage = cv2.threshold(score[0],0.5,1,0)\n",
    "binimage = binimage.astype(np.int8)\n",
    "\n",
    "fig, ax  = plt.subplots(1,figsize=(10,10))\n",
    "ax.imshow(binimage)\n",
    "print(np.shape(score))\n",
    "print(np.shape(binimage))\n",
    "nlabels, labels, stats, centroids = cv2.connectedComponentsWithStats(binimage)\n",
    "nlabels\n"
   ]
  },
  {
   "cell_type": "code",
   "execution_count": null,
   "metadata": {},
   "outputs": [],
   "source": [
    "im_fn_list = get_images()\n",
    "tot_time = time.time() \n",
    "for k,im_fn in enumerate(im_fn_list):\n",
    "    read_time = time.time()\n",
    "    im = cv2.imread(im_fn)[:, :, ::-1]\n",
    "    read_time = time.time()-read_time\n",
    "    print('{:2d}ms'.format(int(read_time*1000)),end='\\r')\n",
    "tot_time = time.time() - tot_time\n",
    "#print (tot_time)\n"
   ]
  },
  {
   "cell_type": "code",
   "execution_count": null,
   "metadata": {},
   "outputs": [],
   "source": [
    "\n",
    "tot_time = time.time() \n",
    "for k,im_fn in enumerate(im_fn_list):\n",
    "    read_time = time.time()\n",
    "    im = io.imread(im_fn)\n",
    "    read_time = time.time()-read_time\n",
    "    print(read_time,end='\\r')\n",
    "tot_time = time.time() - tot_time\n",
    "print (tot_time)\n"
   ]
  },
  {
   "cell_type": "code",
   "execution_count": null,
   "metadata": {},
   "outputs": [],
   "source": [
    "    im_fn_list = get_images()\n",
    "        im_fn_list = im_fn_list[:2]\n",
    "        t = time.time()\n",
    "        for k,im_fn in enumerate(im_fn_list):\n",
    "            print(\"Test image {:d}/{:d}\".format(k+1, len(im_fn_list)), end='\\r')\n",
    "            im = cv2.imread(im_fn)[:, :, ::-1]\n",
    "            fig , ax = plt.subplots(1,figsize=(10,10))\n",
    "            ax.imshow(im)\n",
    "            start_time = time.time()\n",
    "            im_resized, (ratio_h, ratio_w) = resize_image(im)\n",
    "\n",
    "            timer = {'net': 0, 'restore': 0, 'nms': 0}\n",
    "            start = time.time()\n",
    "            score, geometry = sess.run([f_score, f_geometry], feed_dict={input_images: [im_resized]})\n",
    "            timer['net'] = time.time() - start\n",
    "\n",
    "            boxes, timer = detect(score_map=score, geo_map=geometry, timer=timer)\n",
    "            #print('{} : net {:.0f}ms, restore {:.0f}ms, nms {:.0f}ms'.format(\n",
    "            #    im_fn, timer['net']*1000, timer['restore']*1000, timer['nms']*1000))\n",
    "\n",
    "            if boxes is not None:\n",
    "                boxes = boxes[:, :8].reshape((-1, 4, 2))\n",
    "                boxes[:, :, 0] /= ratio_w\n",
    "                boxes[:, :, 1] /= ratio_h\n",
    "\n",
    "            duration = time.time() - start_time\n",
    "            #print('[timing] {}'.format(duration))\n",
    "\n",
    "            # save to file\n",
    "            if boxes is not None:\n",
    "                res_file = os.path.join(\n",
    "                    output_dir,\n",
    "                    'res_{}.txt'.format(\n",
    "                        os.path.basename(im_fn).split('.')[0]))\n",
    "\n",
    "                with open(res_file, 'w') as f:\n",
    "\n",
    "                    if dataset == 'icdar15':\n",
    "                        for box in boxes:\n",
    "                            # to avoid submitting errors\n",
    "                            box = sort_poly(box.astype(np.int32))\n",
    "                            if np.linalg.norm(box[0] - box[1]) < 5 or np.linalg.norm(box[3]-box[0]) < 5:\n",
    "                                continue\n",
    "                            f.write('{},{},{},{},{},{},{},{}\\r\\n'.format(\n",
    "                                box[0, 0], box[0, 1], box[1, 0], box[1, 1], box[2, 0], box[2, 1], box[3, 0], box[3, 1],\n",
    "                            ))\n",
    "                            cv2.polylines(im[:, :, ::-1], [box.astype(np.int32).reshape((-1, 1, 2))], True, color=(255, 255, 0), thickness=1)\n",
    "                        if boxes is None : \n",
    "                            print(res_file)\n",
    "                    elif dataset == 'icdar13':\n",
    "                        for box in boxes:\n",
    "                            box = sort_poly(box.astype(np.int32))\n",
    "                            if np.linalg.norm(box[0] - box[1]) < 5 or np.linalg.norm(box[3]-box[0]) < 5:\n",
    "                                continue\n",
    "                            y_max = max(box[0, 1], box[1, 1], box[2, 1], box[3, 1])\n",
    "                            y_min = min(box[0, 1], box[1, 1], box[2, 1], box[3, 1])\n",
    "                            x_max = max(box[0, 0], box[1, 0], box[2, 0], box[3, 0])\n",
    "                            x_min = min(box[0, 0], box[1, 0], box[2, 0], box[3, 0])\n",
    "                            f.write('{},{},{},{} \\r\\n'.format(\n",
    "                                x_min, y_min,x_max,y_max,\n",
    "                            ))\n",
    "\n",
    "            if not no_write_images:\n",
    "                img_path = os.path.join(output_dir, os.path.basename(im_fn))\n",
    "                cv2.imwrite(img_path, im[:, :, ::-1])\n",
    "        print('time: ' , time.time() - t )"
   ]
  },
  {
   "cell_type": "code",
   "execution_count": null,
   "metadata": {},
   "outputs": [],
   "source": [
    "total_parameters"
   ]
  },
  {
   "cell_type": "code",
   "execution_count": null,
   "metadata": {},
   "outputs": [],
   "source": [
    "print(np.shape(score))\n",
    "print(np.shape(geometry))"
   ]
  },
  {
   "cell_type": "code",
   "execution_count": null,
   "metadata": {},
   "outputs": [],
   "source": [
    "import matplotlib.pyplot as plt \n"
   ]
  },
  {
   "cell_type": "code",
   "execution_count": null,
   "metadata": {},
   "outputs": [],
   "source": [
    "fig ,ax = plt.subplots(2,figsize=(10,10))\n",
    "ax[0].imshow(score[0,:,:,0])\n",
    "ax[1].imshow(im)\n",
    "#ax[1].imshow()"
   ]
  },
  {
   "cell_type": "code",
   "execution_count": null,
   "metadata": {},
   "outputs": [],
   "source": [
    "\n",
    "import icdar"
   ]
  },
  {
   "cell_type": "code",
   "execution_count": null,
   "metadata": {},
   "outputs": [],
   "source": [
    "gen = icdar.generator(vis=True,batch_size=4)"
   ]
  },
  {
   "cell_type": "code",
   "execution_count": null,
   "metadata": {},
   "outputs": [],
   "source": [
    "x = next(gen)"
   ]
  },
  {
   "cell_type": "code",
   "execution_count": null,
   "metadata": {},
   "outputs": [],
   "source": [
    "x[1]\n",
    "im[:, :, ::-1].astype(np.uint8)"
   ]
  },
  {
   "cell_type": "code",
   "execution_count": null,
   "metadata": {},
   "outputs": [],
   "source": [
    "# generator return : images, image_fns, score_maps, geo_maps, training_masks\n",
    "for i in range(0,4):\n",
    "    print(np.shape(x))\n",
    "    print(np.shape(x[0][i]))\n",
    "    print(np.shape(x[3][i]))\n",
    "    print(np.mean(x[0][i][:,:,:]))\n",
    "    fig, ax = plt.subplots(8,figsize=(20,20))\n",
    "    \n",
    "    ax[0].imshow(x[0][i][:, :, ::-1].astype(np.uint8))\n",
    "    ax[1].imshow(x[2][i][:,:,0])\n",
    "    ax[2].imshow(x[3][i][:,:,0])\n",
    "    ax[3].imshow(x[3][i][:,:,1])\n",
    "    ax[4].imshow(x[3][i][:,:,2])\n",
    "    ax[5].imshow(x[3][i][:,:,3])\n",
    "    ax[6].imshow(x[3][i][:,:,4])      \n",
    "    ax[7].imshow(x[4][i][:,:,0])\n",
    "    \n"
   ]
  },
  {
   "cell_type": "code",
   "execution_count": null,
   "metadata": {},
   "outputs": [],
   "source": [
    "print(np.mean(x[0][i]))\n",
    "print(np.mean(x[0][i][:, :, ::-1].astype(np.uint8)))\n",
    "print(np.shape(x[0][i][:, :, ::-1]))"
   ]
  },
  {
   "cell_type": "code",
   "execution_count": null,
   "metadata": {},
   "outputs": [],
   "source": [
    "ckpt = tf.train.latest_checkpoint('./tmp/east_icdar2015_mobilenet_v2_50_rbox/')\n"
   ]
  },
  {
   "cell_type": "code",
   "execution_count": null,
   "metadata": {},
   "outputs": [],
   "source": [
    "a= []\n",
    "if a :\n",
    "    print(a)\n",
    "else :\n",
    "    print(\"empty\")"
   ]
  },
  {
   "cell_type": "code",
   "execution_count": null,
   "metadata": {},
   "outputs": [],
   "source": [
    "print(np.newaxis)"
   ]
  },
  {
   "cell_type": "code",
   "execution_count": null,
   "metadata": {},
   "outputs": [],
   "source": [
    "import keras.layers as KL\n"
   ]
  },
  {
   "cell_type": "code",
   "execution_count": null,
   "metadata": {},
   "outputs": [],
   "source": [
    "inp = KL.Input(shape=[None,None,3])\n"
   ]
  },
  {
   "cell_type": "code",
   "execution_count": null,
   "metadata": {},
   "outputs": [],
   "source": []
  },
  {
   "cell_type": "code",
   "execution_count": null,
   "metadata": {},
   "outputs": [],
   "source": [
    "16/4"
   ]
  },
  {
   "cell_type": "code",
   "execution_count": null,
   "metadata": {},
   "outputs": [],
   "source": [
    "resfolder = './output/res15/'\n",
    "resname =[int(name.split('.')[0]) for name in os.listdir(resfolder)]\n",
    "if resname : \n",
    "    resname.sort()\n",
    "    print(resname)"
   ]
  },
  {
   "cell_type": "code",
   "execution_count": null,
   "metadata": {},
   "outputs": [],
   "source": [
    "os.walk(resfolder)\n"
   ]
  },
  {
   "cell_type": "code",
   "execution_count": null,
   "metadata": {},
   "outputs": [],
   "source": []
  },
  {
   "cell_type": "code",
   "execution_count": null,
   "metadata": {},
   "outputs": [],
   "source": [
    "import sys\n",
    "sys.path.append('/home/minjun/Jupyter/ocr/tf-pvanet/')\n",
    "sys.path.append('/home/minjun/Jupyter/ocr/pylib/src/')\n",
    "from tensorflow.contrib import slim\n",
    "from pvanet import pvanet, pvanet_scope\n",
    "import util\n",
    "import tensorflow as tf\n",
    "\n",
    "with slim.arg_scope(pvanet_scope(False)):\n",
    "    inputs = tf.placeholder(dtype = tf.float32, shape = [None, 768, 1280, 3])\n",
    "    net, end_points = pvanet(inputs,include_last_bn_relu = False,expansion=2)\n",
    "    for k in sorted(end_points.keys()):\n",
    "        print (k, end_points[k].shape)\n",
    "    print (net.shape)"
   ]
  },
  {
   "cell_type": "code",
   "execution_count": null,
   "metadata": {},
   "outputs": [],
   "source": []
  },
  {
   "cell_type": "code",
   "execution_count": null,
   "metadata": {},
   "outputs": [],
   "source": [
    "from research.slim.nets.mobilenet import mobilenet_v2\n",
    "inputs = tf.placeholder(dtype = tf.float32, shape = [None, 768, 1280, 3])\n",
    "\n",
    "with slim.arg_scope(mobilenet_v2.training_scope(weight_decay=1e-5)):\n",
    "    logits, endpoints = mobilenet_v2.mobilenet_base(inputs,is_training=False)"
   ]
  },
  {
   "cell_type": "code",
   "execution_count": null,
   "metadata": {},
   "outputs": [],
   "source": [
    "endpoints['layer_18/output']\n"
   ]
  },
  {
   "cell_type": "code",
   "execution_count": null,
   "metadata": {},
   "outputs": [],
   "source": [
    "import numpy as np\n",
    "tuple(np.array([1,2,3]*2))"
   ]
  },
  {
   "cell_type": "code",
   "execution_count": null,
   "metadata": {},
   "outputs": [],
   "source": [
    "\"{} {}\".format(1,2)"
   ]
  },
  {
   "cell_type": "code",
   "execution_count": null,
   "metadata": {},
   "outputs": [],
   "source": [
    "\n",
    "\n",
    "num_outputs= '64 96-192 32-64-64 128 384'\n",
    "num_outputs = num_outputs.split()"
   ]
  },
  {
   "cell_type": "code",
   "execution_count": null,
   "metadata": {},
   "outputs": [],
   "source": [
    "num_outputs"
   ]
  },
  {
   "cell_type": "code",
   "execution_count": null,
   "metadata": {},
   "outputs": [],
   "source": [
    "num_outputs = [s.split('-') for s in num_outputs]\n"
   ]
  },
  {
   "cell_type": "code",
   "execution_count": null,
   "metadata": {},
   "outputs": [],
   "source": [
    "num_outputs"
   ]
  },
  {
   "cell_type": "code",
   "execution_count": null,
   "metadata": {},
   "outputs": [],
   "source": [
    "inception_outputs = int(num_outputs[-1][0])\n",
    "num_outputs = num_outputs[:-1]"
   ]
  },
  {
   "cell_type": "code",
   "execution_count": null,
   "metadata": {},
   "outputs": [],
   "source": [
    "print(inception_outputs)\n",
    "print(num_outputs)"
   ]
  },
  {
   "cell_type": "code",
   "execution_count": null,
   "metadata": {},
   "outputs": [],
   "source": [
    "[1, 3, 3][:3]"
   ]
  },
  {
   "cell_type": "code",
   "execution_count": null,
   "metadata": {},
   "outputs": [],
   "source": [
    "expansion = 1 if False else 2"
   ]
  },
  {
   "cell_type": "code",
   "execution_count": null,
   "metadata": {},
   "outputs": [],
   "source": [
    "expansion"
   ]
  },
  {
   "cell_type": "code",
   "execution_count": null,
   "metadata": {},
   "outputs": [],
   "source": [
    "fig, ax = plt.subplots(1,figsize=(30,30))\n",
    "ax.imshow(im)"
   ]
  },
  {
   "cell_type": "code",
   "execution_count": null,
   "metadata": {},
   "outputs": [],
   "source": [
    "from research.slim.nets.mobilenet.conv_blocks import expanded_conv\n",
    "from research.slim.nets.mobilenet import conv_blocks as ops\n",
    "from research.slim.nets.mobilenet import mobilenet as lib\n",
    "expand_input = ops.expand_input_by_factor"
   ]
  },
  {
   "cell_type": "code",
   "execution_count": null,
   "metadata": {},
   "outputs": [],
   "source": [
    "input_images = tf.placeholder(tf.float32, shape=[None, None, None, 3], name='input_images')\n",
    "conv = expanded_conv(input_images,256,expansion_size= expand_input(6))"
   ]
  },
  {
   "cell_type": "code",
   "execution_count": null,
   "metadata": {},
   "outputs": [],
   "source": [
    "from tensorflow.contrib import slim\n"
   ]
  },
  {
   "cell_type": "code",
   "execution_count": null,
   "metadata": {},
   "outputs": [],
   "source": [
    "slim.model_analyzer.analyze_vars(tf.global_variables(), print_info=True)"
   ]
  },
  {
   "cell_type": "code",
   "execution_count": null,
   "metadata": {},
   "outputs": [],
   "source": [
    "from research.slim.nets.mobilenet import mobilenet_v2\n",
    "from research.slim.nets.mobilenet.conv_blocks import expanded_conv\n",
    "from tensorflow.contrib import slim\n",
    "input_images = tf.placeholder(tf.float32, shape=[None, None, None, 3], name='input_images')\n"
   ]
  },
  {
   "cell_type": "code",
   "execution_count": null,
   "metadata": {},
   "outputs": [],
   "source": [
    "with slim.arg_scope(mobilenet_v2.training_scope(weight_decay=1e-4)):\n",
    "    logits, endpoints = mobilenet_v2.mobilenet_base(input_images,is_training=False)"
   ]
  },
  {
   "cell_type": "code",
   "execution_count": null,
   "metadata": {},
   "outputs": [],
   "source": [
    "slim.model_analyzer.analyze_vars(tf.global_variables(), print_info=True)"
   ]
  },
  {
   "cell_type": "code",
   "execution_count": null,
   "metadata": {},
   "outputs": [],
   "source": [
    "import tensorflow as tf\n",
    "ckpt_state = tf.train.get_checkpoint_state('./tmp/east_icdar2015_pvanet/')\n"
   ]
  },
  {
   "cell_type": "code",
   "execution_count": null,
   "metadata": {},
   "outputs": [],
   "source": [
    "ckpt_state.all_model_checkpoint_paths[-2]"
   ]
  },
  {
   "cell_type": "code",
   "execution_count": null,
   "metadata": {},
   "outputs": [],
   "source": []
  }
 ],
 "metadata": {
  "kernelspec": {
   "display_name": "tensorflow",
   "language": "python",
   "name": "tensorflow"
  },
  "language_info": {
   "codemirror_mode": {
    "name": "ipython",
    "version": 3
   },
   "file_extension": ".py",
   "mimetype": "text/x-python",
   "name": "python",
   "nbconvert_exporter": "python",
   "pygments_lexer": "ipython3",
   "version": "3.5.2"
  }
 },
 "nbformat": 4,
 "nbformat_minor": 2
}
