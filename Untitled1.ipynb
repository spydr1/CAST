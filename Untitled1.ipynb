{
 "cells": [
  {
   "cell_type": "code",
   "execution_count": 141,
   "metadata": {},
   "outputs": [
    {
     "name": "stdout",
     "output_type": "stream",
     "text": [
      "34996224 34176\n",
      "6815744 6656\n"
     ]
    }
   ],
   "source": [
    "ic = 64\n",
    "oc = 16\n",
    "n= 32 \n",
    "irb_flops = n**2 * ic * 6*(ic + 9 + oc)\n",
    "irb_params  =ic * 6 * (ic + 9 + oc) # \n",
    "print( irb_flops , irb_params)\n",
    "\n",
    "\n",
    "stard_conv_flops = int(n**2 * 2* oc * (ic  + 9* oc)  )\n",
    "stard_conv_params = int(2* oc* ( ic + 9 * oc) )\n",
    "print( stard_conv_flops , stard_conv_params)\n",
    "\n",
    "#resnet_flops =\n",
    "#resnet_params = \n"
   ]
  },
  {
   "cell_type": "code",
   "execution_count": 91,
   "metadata": {},
   "outputs": [],
   "source": [
    "def lrb_count (ic,oc):\n",
    "    irb_flops = n**2 * ic * 6*(ic + 9 + oc)\n",
    "    irb_params  =ic * 6 * (ic + 9 + oc) # \n",
    "    return irb_flops,stard_conv_flops\n",
    "def stand_conv_count(ic,oc):\n",
    "    stard_conv_flops = int(n**2 * 2* oc * (ic  + 9* oc)  )\n",
    "    stard_conv_params = int(2* oc* ( ic + 9 * oc) )\n",
    "    return stard_conv_flops,stard_conv_params\n",
    "\n",
    "\n",
    "    "
   ]
  },
  {
   "cell_type": "code",
   "execution_count": 65,
   "metadata": {},
   "outputs": [],
   "source": [
    "from matplotlib import pyplot as plt\n",
    "import numpy as np\n"
   ]
  },
  {
   "cell_type": "code",
   "execution_count": 111,
   "metadata": {},
   "outputs": [],
   "source": [
    "lrb_list = np.array([lrb_count(ic+i,oc) for i in range(128)])\n",
    "stard_list = np.array([stand_conv_count(ic+i,oc) for i in range(128)])"
   ]
  },
  {
   "cell_type": "code",
   "execution_count": 112,
   "metadata": {},
   "outputs": [],
   "source": [
    "\n",
    "lrb_list = np.array([list(lrb_count(ic,oc+i))+[oc+i] for i in range(96)])\n",
    "stard_list = np.array([list(stand_conv_count(ic,oc+i))+[oc+i] for i in range(96)])"
   ]
  },
  {
   "cell_type": "code",
   "execution_count": 114,
   "metadata": {},
   "outputs": [
    {
     "data": {
      "image/png": "[encoded data removed]",
      "text/plain": [
       "<Figure size 432x288 with 1 Axes>"
      ]
     },
     "metadata": {
      "needs_background": "light"
     },
     "output_type": "display_data"
    }
   ],
   "source": [
    "\n",
    "\n",
    "plt.plot(lrb_list[:,2],lrb_list[:,0],'b',label='Irb')\n",
    "plt.plot(stard_list[:,2],stard_list[:,0],'r',label='std')\n",
    "plt.xlabel('x axis')\n",
    "plt.ylabel('Flops (Billion)')\n",
    "plt.legend(loc='upper right')\n",
    "\n",
    "plt.show()\n",
    "\n"
   ]
  },
  {
   "cell_type": "code",
   "execution_count": 138,
   "metadata": {},
   "outputs": [],
   "source": [
    "def temp(ic, oc):\n",
    "    \n",
    "        \n",
    "    return ic * 6*(ic + 9 + oc)/(2* oc * (ic  + 9* oc))\n",
    "\n",
    "ic = 96\n",
    "\n",
    "t_1= np.array([(oc,temp(ic,oc)) for oc in range(32,128)])\n",
    "    "
   ]
  },
  {
   "cell_type": "code",
   "execution_count": 139,
   "metadata": {},
   "outputs": [
    {
     "data": {
      "text/plain": [
       "[<matplotlib.lines.Line2D at 0x7f6a675dcac8>]"
      ]
     },
     "execution_count": 139,
     "metadata": {},
     "output_type": "execute_result"
    },
    {
     "data": {
      "image/png": "[encoded data removed]",
      "text/plain": [
       "<Figure size 432x288 with 1 Axes>"
      ]
     },
     "metadata": {
      "needs_background": "light"
     },
     "output_type": "display_data"
    }
   ],
   "source": [
    "\n",
    "plt.plot(t_1[:,0],t_1[:,1],'b',label='Irb')"
   ]
  },
  {
   "cell_type": "code",
   "execution_count": 13,
   "metadata": {},
   "outputs": [
    {
     "name": "stdout",
     "output_type": "stream",
     "text": [
      "531628032 129792\n",
      "369098752 90112\n"
     ]
    }
   ],
   "source": [
    "ic = 128\n",
    "oc = 32\n",
    "n= 64 \n",
    "irb_flops = n**2 * ic * 6*(ic + 9 + oc)\n",
    "irb_params  =ic * 6 * (ic + 9 + oc) # \n",
    "print( irb_flops , irb_params)\n",
    "\n",
    "ic = 128\n",
    "oc = 64\n",
    "\n",
    "stard_conv_flops = int(n**2 * 2* oc * (ic  + 9* oc)  )\n",
    "stard_conv_params = int(2* oc* ( ic + 9 * oc) )\n",
    "print( stard_conv_flops , stard_conv_params)"
   ]
  },
  {
   "cell_type": "code",
   "execution_count": 31,
   "metadata": {},
   "outputs": [
    {
     "name": "stdout",
     "output_type": "stream",
     "text": [
      "2185232384 133376 16384.0\n",
      "19327352832 1179648 16384.0\n"
     ]
    }
   ],
   "source": [
    "ic = 256\n",
    "oc = 512\n",
    "flops = n**2 * ic* ( 9 + oc)\n",
    "params = ic*9 + ic *oc\n",
    "print (flops,params,flops/params)\n",
    "flops = n**2 * 9 * ic * oc\n",
    "params = 9 * ic * oc\n",
    "print (flops,params,flops/params)\n"
   ]
  },
  {
   "cell_type": "code",
   "execution_count": 9,
   "metadata": {},
   "outputs": [],
   "source": [
    "import tensorflow as tf \n",
    "from tensorflow.contrib import slim\n"
   ]
  },
  {
   "cell_type": "code",
   "execution_count": 71,
   "metadata": {},
   "outputs": [],
   "source": [
    "tf.reset_default_graph()\n",
    "X = tf.placeholder(tf.float32,[1,64,64,128])"
   ]
  },
  {
   "cell_type": "code",
   "execution_count": 72,
   "metadata": {},
   "outputs": [],
   "source": [
    "\n",
    "\n",
    "conv = slim.conv2d(X,128,(1,1))\n",
    "conv = slim.conv2d(conv,64,(3,3))"
   ]
  },
  {
   "cell_type": "code",
   "execution_count": 73,
   "metadata": {},
   "outputs": [
    {
     "name": "stdout",
     "output_type": "stream",
     "text": [
      "---------\n",
      "Variables: name (type shape) [size]\n",
      "---------\n",
      "Conv/weights:0 (float32_ref 1x1x128x128) [16384, bytes: 65536]\n",
      "Conv/biases:0 (float32_ref 128) [128, bytes: 512]\n",
      "Conv_1/weights:0 (float32_ref 3x3x128x64) [73728, bytes: 294912]\n",
      "Conv_1/biases:0 (float32_ref 64) [64, bytes: 256]\n",
      "Total size of variables: 90304\n",
      "Total bytes of variables: 361216\n"
     ]
    },
    {
     "data": {
      "text/plain": [
       "(90304, 361216)"
      ]
     },
     "execution_count": 73,
     "metadata": {},
     "output_type": "execute_result"
    }
   ],
   "source": [
    "slim.model_analyzer.analyze_vars(tf.trainable_variables(),print_info=True)"
   ]
  },
  {
   "cell_type": "code",
   "execution_count": 74,
   "metadata": {},
   "outputs": [],
   "source": [
    "tf.reset_default_graph()\n",
    "X = tf.placeholder(tf.float32,[1,64,64,64])\n",
    "conv = slim.conv2d(X,64*6,(1,1))\n",
    "conv = slim.separable_conv2d(conv,32,(3,3))"
   ]
  },
  {
   "cell_type": "code",
   "execution_count": 75,
   "metadata": {},
   "outputs": [
    {
     "name": "stdout",
     "output_type": "stream",
     "text": [
      "---------\n",
      "Variables: name (type shape) [size]\n",
      "---------\n",
      "Conv/weights:0 (float32_ref 1x1x64x384) [24576, bytes: 98304]\n",
      "Conv/biases:0 (float32_ref 384) [384, bytes: 1536]\n",
      "SeparableConv2d/depthwise_weights:0 (float32_ref 3x3x384x1) [3456, bytes: 13824]\n",
      "SeparableConv2d/pointwise_weights:0 (float32_ref 1x1x384x32) [12288, bytes: 49152]\n",
      "SeparableConv2d/biases:0 (float32_ref 32) [32, bytes: 128]\n",
      "Total size of variables: 40736\n",
      "Total bytes of variables: 162944\n"
     ]
    },
    {
     "data": {
      "text/plain": [
       "(40736, 162944)"
      ]
     },
     "execution_count": 75,
     "metadata": {},
     "output_type": "execute_result"
    }
   ],
   "source": [
    "slim.model_analyzer.analyze_vars(tf.trainable_variables(),print_info=True)"
   ]
  },
  {
   "cell_type": "code",
   "execution_count": null,
   "metadata": {},
   "outputs": [],
   "source": []
  },
  {
   "cell_type": "code",
   "execution_count": null,
   "metadata": {},
   "outputs": [],
   "source": []
  }
 ],
 "metadata": {
  "kernelspec": {
   "display_name": "tensorflow",
   "language": "python",
   "name": "tensorflow"
  },
  "language_info": {
   "codemirror_mode": {
    "name": "ipython",
    "version": 3
   },
   "file_extension": ".py",
   "mimetype": "text/x-python",
   "name": "python",
   "nbconvert_exporter": "python",
   "pygments_lexer": "ipython3",
   "version": "3.5.2"
  }
 },
 "nbformat": 4,
 "nbformat_minor": 2
}
